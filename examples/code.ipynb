{
 "cells": [
  {
   "cell_type": "code",
   "execution_count": 11,
   "id": "c7c709c4-0dbe-4f82-8ee6-f4cf2fd55b68",
   "metadata": {
    "tags": []
   },
   "outputs": [
    {
     "name": "stdout",
     "output_type": "stream",
     "text": [
      "Requirement already satisfied: openai in d:\\tomo.project\\jupyter-ai\\venv\\lib\\site-packages (1.7.1)\n",
      "Requirement already satisfied: anyio<5,>=3.5.0 in d:\\tomo.project\\jupyter-ai\\venv\\lib\\site-packages (from openai) (4.2.0)\n",
      "Requirement already satisfied: distro<2,>=1.7.0 in d:\\tomo.project\\jupyter-ai\\venv\\lib\\site-packages (from openai) (1.9.0)\n",
      "Requirement already satisfied: httpx<1,>=0.23.0 in d:\\tomo.project\\jupyter-ai\\venv\\lib\\site-packages (from openai) (0.26.0)\n",
      "Requirement already satisfied: pydantic<3,>=1.9.0 in d:\\tomo.project\\jupyter-ai\\venv\\lib\\site-packages (from openai) (2.5.3)\n",
      "Requirement already satisfied: sniffio in d:\\tomo.project\\jupyter-ai\\venv\\lib\\site-packages (from openai) (1.3.0)\n",
      "Requirement already satisfied: tqdm>4 in d:\\tomo.project\\jupyter-ai\\venv\\lib\\site-packages (from openai) (4.66.1)\n",
      "Requirement already satisfied: typing-extensions<5,>=4.7 in d:\\tomo.project\\jupyter-ai\\venv\\lib\\site-packages (from openai) (4.9.0)\n",
      "Requirement already satisfied: idna>=2.8 in d:\\tomo.project\\jupyter-ai\\venv\\lib\\site-packages (from anyio<5,>=3.5.0->openai) (3.6)\n",
      "Requirement already satisfied: exceptiongroup>=1.0.2 in d:\\tomo.project\\jupyter-ai\\venv\\lib\\site-packages (from anyio<5,>=3.5.0->openai) (1.2.0)\n",
      "Requirement already satisfied: certifi in d:\\tomo.project\\jupyter-ai\\venv\\lib\\site-packages (from httpx<1,>=0.23.0->openai) (2023.11.17)\n",
      "Requirement already satisfied: httpcore==1.* in d:\\tomo.project\\jupyter-ai\\venv\\lib\\site-packages (from httpx<1,>=0.23.0->openai) (1.0.2)\n",
      "Requirement already satisfied: h11<0.15,>=0.13 in d:\\tomo.project\\jupyter-ai\\venv\\lib\\site-packages (from httpcore==1.*->httpx<1,>=0.23.0->openai) (0.14.0)\n",
      "Requirement already satisfied: annotated-types>=0.4.0 in d:\\tomo.project\\jupyter-ai\\venv\\lib\\site-packages (from pydantic<3,>=1.9.0->openai) (0.6.0)\n",
      "Requirement already satisfied: pydantic-core==2.14.6 in d:\\tomo.project\\jupyter-ai\\venv\\lib\\site-packages (from pydantic<3,>=1.9.0->openai) (2.14.6)\n",
      "Requirement already satisfied: colorama in d:\\tomo.project\\jupyter-ai\\venv\\lib\\site-packages (from tqdm>4->openai) (0.4.6)\n"
     ]
    }
   ],
   "source": [
    "!pip install openai\n",
    "%reload_ext jupyter_ai"
   ]
  },
  {
   "cell_type": "code",
   "execution_count": 12,
   "id": "f69abe97-654c-4e4a-8d18-575deca9c935",
   "metadata": {
    "tags": []
   },
   "outputs": [
    {
     "data": {
      "text/html": [
       "AI generated code inserted below &#11015;&#65039;"
      ],
      "text/plain": [
       "<IPython.core.display.HTML object>"
      ]
     },
     "execution_count": 12,
     "metadata": {
      "text/html": {
       "jupyter_ai": {
        "model_id": "gpt-3.5-turbo",
        "provider_id": "openai-chat"
       }
      }
     },
     "output_type": "execute_result"
    }
   ],
   "source": [
    "%%ai chatgpt --format code\n",
    "A python program that asks me for my name and then greets me by my name, in Taditional chinese"
   ]
  },
  {
   "cell_type": "code",
   "execution_count": 10,
   "id": "7e187e37-9abd-4ed2-9959-fb3acdb3acfe",
   "metadata": {},
   "outputs": [
    {
     "data": {
      "text/html": [
       "AI generated code inserted below &#11015;&#65039;"
      ],
      "text/plain": [
       "<IPython.core.display.HTML object>"
      ]
     },
     "execution_count": 10,
     "metadata": {
      "text/html": {
       "jupyter_ai": {
        "model_id": "gpt-3.5-turbo",
        "provider_id": "openai-chat"
       }
      }
     },
     "output_type": "execute_result"
    }
   ],
   "source": [
    "%%ai chatgpt --format code\n",
    "用 tkinter 寫一個數位型時鐘\n",
    "# A function that computes the lowest common multiples of two integers, and a function that runs 5 test cases of the lowest common multiple function"
   ]
  },
  {
   "cell_type": "code",
   "execution_count": null,
   "id": "6f39dc5e-d4f9-4240-ae8d-4441fc50fd99",
   "metadata": {},
   "outputs": [],
   "source": [
    "from tkinter import *\n",
    "from datetime import datetime\n",
    "\n",
    "def update_time():\n",
    "    current_time = datetime.now().strftime(\"%H:%M:%S\")\n",
    "    time_label.config(text=current_time)\n",
    "    time_label.after(1000, update_time)\n",
    "\n",
    "root = Tk()\n",
    "root.title(\"Digital Clock\")\n",
    "root.geometry(\"200x100\")\n",
    "\n",
    "time_label = Label(root, font=(\"Arial\", 30), bg=\"black\", fg=\"white\")\n",
    "time_label.pack(fill=BOTH, expand=True)\n",
    "\n",
    "update_time()\n",
    "\n",
    "root.mainloop()\n",
    "\n",
    "def lowest_common_multiple(a, b):\n",
    "    if a == 0 or b == 0:\n",
    "        return 0\n",
    "    elif a == b:\n",
    "        return a\n",
    "    else:\n",
    "        max_num = max(a, b)\n",
    "        while True:\n",
    "            if max_num % a == 0 and max_num % b == 0:\n",
    "                return max_num\n",
    "            max_num += 1\n",
    "\n",
    "def test_lowest_common_multiple():\n",
    "    test_cases = [(3, 5), (10, 15), (7, 11), (12, 18), (25, 35)]\n",
    "    expected_results = [15, 30, 77, 36, 175]\n",
    "\n",
    "    for i in range(len(test_cases)):\n",
    "        result = lowest_common_multiple(test_cases[i][0], test_cases[i][1])\n",
    "        assert result == expected_results[i], f\"Test case {i+1} failed. Expected {expected_results[i]}, but got {result}.\"\n",
    "\n",
    "test_lowest_common_multiple()"
   ]
  },
  {
   "cell_type": "code",
   "execution_count": null,
   "id": "9978c08c-c0da-49dd-9e01-3b9d8c9e1a5e",
   "metadata": {},
   "outputs": [],
   "source": []
  }
 ],
 "metadata": {
  "kernelspec": {
   "display_name": "Python 3 (ipykernel)",
   "language": "python",
   "name": "python3"
  },
  "language_info": {
   "codemirror_mode": {
    "name": "ipython",
    "version": 3
   },
   "file_extension": ".py",
   "mimetype": "text/x-python",
   "name": "python",
   "nbconvert_exporter": "python",
   "pygments_lexer": "ipython3",
   "version": "3.10.11"
  }
 },
 "nbformat": 4,
 "nbformat_minor": 5
}
